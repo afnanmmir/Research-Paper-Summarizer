{
 "cells": [
  {
   "cell_type": "code",
   "execution_count": 1,
   "metadata": {},
   "outputs": [],
   "source": [
    "import streamlit as st\n",
    "from transformers import AutoTokenizer, AutoModelForSeq2SeqLM\n",
    "import nltk\n",
    "import math\n",
    "import torch"
   ]
  },
  {
   "cell_type": "code",
   "execution_count": 2,
   "metadata": {},
   "outputs": [],
   "source": [
    "model_name = \"afnanmmir/t5-base-abstract-to-plain-language-1\"\n",
    "# model_name = \"afnanmmir/t5-base-axriv-to-abstract-3\"\n",
    "max_input_length = 1024\n",
    "max_output_length = 256\n",
    "min_output_length = 64"
   ]
  },
  {
   "cell_type": "code",
   "execution_count": 6,
   "metadata": {},
   "outputs": [
    {
     "name": "stdout",
     "output_type": "stream",
     "text": [
      "Loading model...\n",
      "Model loaded!\n"
     ]
    },
    {
     "name": "stderr",
     "output_type": "stream",
     "text": [
      "[nltk_data] Downloading package punkt to /home/pintos/nltk_data...\n",
      "[nltk_data]   Package punkt is already up-to-date!\n"
     ]
    }
   ],
   "source": [
    "def load_model():\n",
    "    print(\"Loading model...\")\n",
    "    tokenizer = AutoTokenizer.from_pretrained(model_name)\n",
    "    model = AutoModelForSeq2SeqLM.from_pretrained(model_name)\n",
    "    nltk.download('punkt')\n",
    "    print(\"Model loaded!\")\n",
    "    return tokenizer, model\n",
    "\n",
    "tokenizer, model = load_model()"
   ]
  },
  {
   "cell_type": "code",
   "execution_count": 7,
   "metadata": {},
   "outputs": [],
   "source": [
    "def generate_summary(text):\n",
    "    inputs = [\"summarize: \" + text]\n",
    "    inputs = tokenizer(inputs, return_tensors=\"pt\", max_length=max_input_length, truncation=True)\n",
    "\n",
    "    outputs = model.generate(**inputs, do_sample=True, max_length=max_output_length, num_beams=8, min_length=min_output_length)\n",
    "    decoded_outputs = tokenizer.batch_decode(outputs, skip_special_tokens=True)[0]\n",
    "    predicted_summaries = nltk.sent_tokenize(decoded_outputs.strip())\n",
    "    \n",
    "    return predicted_summaries"
   ]
  },
  {
   "cell_type": "code",
   "execution_count": 8,
   "metadata": {},
   "outputs": [
    {
     "name": "stderr",
     "output_type": "stream",
     "text": [
      "2023-04-15 20:08:10.200 WARNING datasets.builder: Found cached dataset json (/home/pintos/.cache/huggingface/datasets/json/default-3bfbc9858e2f56f0/0.0.0/fe5dd6ea2639a6df622901539cb550cf8797e5a6b2dd7af1cf934bed8e233e6e)\n"
     ]
    },
    {
     "data": {
      "application/vnd.jupyter.widget-view+json": {
       "model_id": "f9de7e747d9d4bef8ff00503b364fd46",
       "version_major": 2,
       "version_minor": 0
      },
      "text/plain": [
       "  0%|          | 0/1 [00:00<?, ?it/s]"
      ]
     },
     "metadata": {},
     "output_type": "display_data"
    },
    {
     "name": "stdout",
     "output_type": "stream",
     "text": [
      "Processed 0 articles\n",
      "Processed 50 articles\n",
      "Processed 100 articles\n",
      "Processed 150 articles\n",
      "Processed 200 articles\n",
      "Processed 250 articles\n",
      "Processed 300 articles\n",
      "Processed 350 articles\n",
      "Processed 400 articles\n",
      "Processed 450 articles\n",
      "Processed 500 articles\n",
      "Processed 550 articles\n",
      "Processed 600 articles\n",
      "Processed 650 articles\n",
      "Processed 700 articles\n",
      "Processed 750 articles\n",
      "Processed 800 articles\n",
      "Processed 850 articles\n",
      "Processed 900 articles\n",
      "Processed 950 articles\n"
     ]
    }
   ],
   "source": [
    "\n",
    "import json\n",
    "\n",
    "from datasets import load_dataset\n",
    "dataset = load_dataset('json', data_files='./plos_readability_ctrl_sum_corpus/test_plos.jsonl')\n",
    "output_file = open(\"./plos_readability_ctrl_sum_corpus_output/test_plos_output.jsonl\", \"w\")\n",
    "\n",
    "for i in range(1000):\n",
    "    title = dataset[\"train\"][i][\"title\"]\n",
    "    abstract = dataset[\"train\"][i][\"abstract\"]\n",
    "    plain_language_summary = dataset[\"train\"][i][\"plain language summary\"]\n",
    "    article = dataset[\"train\"][i][\"article\"]\n",
    "\n",
    "    predicted_summary = generate_summary(abstract)\n",
    "    predicted_summary = \" \".join(predicted_summary)\n",
    "\n",
    "    # json.dump({\"title\": title, \"predicted summary\": predicted_summary}, output_file)\n",
    "\n",
    "    output_file.write(json.dumps({\"title\": title, \"predicted summary\": predicted_summary}) + '\\n')\n",
    "\n",
    "    if (i % 50 == 0):\n",
    "        print(\"Processed \" + str(i) + \" articles\")\n",
    "\n",
    "output_file.close()\n",
    "\n"
   ]
  },
  {
   "cell_type": "code",
   "execution_count": 46,
   "metadata": {},
   "outputs": [],
   "source": [
    "# predicted_summary = generate_summary(abstract)\n",
    "# predicted_summary = \" \".join(predicted_summary)"
   ]
  },
  {
   "cell_type": "code",
   "execution_count": 66,
   "metadata": {},
   "outputs": [
    {
     "name": "stdout",
     "output_type": "stream",
     "text": [
      "Flesch reading ease score on abstract:  15.85\n",
      "Flesch reading ease score on testing summary:  5.76\n",
      "Flesch reading ease score on predicted summary:  33.24\n"
     ]
    }
   ],
   "source": [
    "import textstat\n",
    "\n",
    "print(\"Flesch reading ease score on abstract: \", textstat.flesch_reading_ease(abstract))\n",
    "print(\"Flesch reading ease score on testing summary: \", textstat.flesch_reading_ease(plain_language_summary))\n",
    "print(\"Flesch reading ease score on predicted summary: \", textstat.flesch_reading_ease(predicted_summary))"
   ]
  },
  {
   "cell_type": "code",
   "execution_count": 48,
   "metadata": {},
   "outputs": [
    {
     "name": "stdout",
     "output_type": "stream",
     "text": [
      "Trypanosoma cruzi strains are currently classified into six discrete typing units (DTUs) named TcI to VI. It is known that these DTUs have different geographical distribution, as well as biological features. TcI and TcII are major DTUs found in patients from northern and southern Latin America, respectively. Our hypothesis is that upon infection of human peripheral blood cells, Y strain (Tc II) and Col cl1.7 (Tc I), cause distinct immunological changes, which might influence the clinical course of Chagas disease.\n",
      "We evaluated the infectivity of CFSE-stained trypomastigotes of Col cl1.7 and Y strain in human monocytes for 15 and 72 hours, and determined the immunological profile of lymphocytes and monocytes exposed to the different isolates using multiparameter flow cytometry. Our results showed a similar percentage and intensity of monocyte infection by Y and Col cl1.7. We also observed an increased expression of CD80 and CD86 by monocytes infected with Col cl1.7, but not Y strain. IL-10 was significantly higher in monocytes infected with Col cl1.7, as compared to Y strain. Moreover, infection with Col cl1.7, but not Y strain, led to an increased expression of IL-17 by CD8+ T cells. On the other hand, we observed a positive correlation between the expression of TNF-alpha and granzyme A only after infection with Y strain.\n",
      "Our study shows that while Col cl1.7 induces higher monocyte activation and, at the same time, production of IL-10, infection with Y strain leads to a lower monocyte activation but higher inflammatory profile. These results show that TcI and TcII have a distinct immunological impact on human cells during early infection, which might influence disease progression.\n",
      "\n",
      "Chagas disease remains a major public health problem in Latin America with over 13 million people infected. It is believed that the host immune response and genetic diversity of the parasite play an important role in the progression of Chagas disease, which presents a variety of clinical forms ranging from indeterminate to cardiac and digestive forms. Since parasite genetic diversity may influence the development of Chagas disease, our study aims to understand the immune response of human peripheral blood cells upon infection with two T. cruzi strains with different genetic backgrounds (Col cl1.7 – Tc I, and Y strain – TcII). Our study showed differences in the expression of cytokines and activation molecules between cells infected with strains from Tc I (Col cl1.7) and Tc II (Y strain). These data show the importance of parasite strain in the development of the host response early in infection, which may influence the clinical progression of Chagas disease.\n",
      "\n",
      "Chagas disease, in particular Chagas disease virus-associated immunodevelopmental systemic lymphodermaclavemia, is the most predominant immunologic disorder seen in Caucasians between the fifth and twentieth century. Cellular lymphadenomatosis caused to develop Chagas-positive lymphosomal cells, CD8 cells: lymphocytes that exposed to either Trypanosoma cruzi strains obtained later from northern and southern Latin American populations, has distinct immunological profiles that may influence development of Chagas disease, though although both isolated isolates induce higher monocyte activation rates. Our data show distinct immunological profile upon TcII and TcIII occur Only after injection with two different isolates of TcIII during first infections, which could influence Chagas disease progression.\n"
     ]
    }
   ],
   "source": [
    "print(abstract)\n",
    "print(plain_language_summary)\n",
    "print(predicted_summary)"
   ]
  },
  {
   "cell_type": "code",
   "execution_count": null,
   "metadata": {},
   "outputs": [],
   "source": []
  }
 ],
 "metadata": {
  "kernelspec": {
   "display_name": "LIN373N",
   "language": "python",
   "name": "python3"
  },
  "language_info": {
   "codemirror_mode": {
    "name": "ipython",
    "version": 3
   },
   "file_extension": ".py",
   "mimetype": "text/x-python",
   "name": "python",
   "nbconvert_exporter": "python",
   "pygments_lexer": "ipython3",
   "version": "3.10.8"
  },
  "orig_nbformat": 4
 },
 "nbformat": 4,
 "nbformat_minor": 2
}
