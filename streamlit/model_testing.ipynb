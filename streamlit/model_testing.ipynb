{
 "cells": [
  {
   "cell_type": "code",
   "execution_count": 1,
   "metadata": {},
   "outputs": [],
   "source": [
    "import streamlit as st\n",
    "from transformers import AutoTokenizer, AutoModelForSeq2SeqLM\n",
    "import nltk\n",
    "import math\n",
    "import torch"
   ]
  },
  {
   "cell_type": "code",
   "execution_count": 2,
   "metadata": {},
   "outputs": [],
   "source": [
    "model_name = \"afnanmmir/t5-base-abstract-to-plain-language-1\"\n",
    "# model_name = \"afnanmmir/t5-base-axriv-to-abstract-3\"\n",
    "max_input_length = 1024\n",
    "max_output_length = 256\n",
    "min_output_length = 64"
   ]
  },
  {
   "cell_type": "code",
   "execution_count": 6,
   "metadata": {},
   "outputs": [
    {
     "name": "stdout",
     "output_type": "stream",
     "text": [
      "Loading model...\n",
      "Model loaded!\n"
     ]
    },
    {
     "name": "stderr",
     "output_type": "stream",
     "text": [
      "[nltk_data] Downloading package punkt to /home/pintos/nltk_data...\n",
      "[nltk_data]   Package punkt is already up-to-date!\n"
     ]
    }
   ],
   "source": [
    "def load_model():\n",
    "    print(\"Loading model...\")\n",
    "    tokenizer = AutoTokenizer.from_pretrained(model_name)\n",
    "    model = AutoModelForSeq2SeqLM.from_pretrained(model_name)\n",
    "    nltk.download('punkt')\n",
    "    print(\"Model loaded!\")\n",
    "    return tokenizer, model\n",
    "\n",
    "tokenizer, model = load_model()"
   ]
  },
  {
   "cell_type": "code",
   "execution_count": 7,
   "metadata": {},
   "outputs": [],
   "source": [
    "def generate_summary(text):\n",
    "    inputs = [\"summarize: \" + text]\n",
    "    inputs = tokenizer(inputs, return_tensors=\"pt\", max_length=max_input_length, truncation=True)\n",
    "\n",
    "    outputs = model.generate(**inputs, do_sample=True, max_length=max_output_length, num_beams=8, min_length=min_output_length)\n",
    "    decoded_outputs = tokenizer.batch_decode(outputs, skip_special_tokens=True)[0]\n",
    "    predicted_summaries = nltk.sent_tokenize(decoded_outputs.strip())\n",
    "    \n",
    "    return predicted_summaries"
   ]
  },
  {
   "cell_type": "code",
   "execution_count": 8,
   "metadata": {},
   "outputs": [
    {
     "name": "stderr",
     "output_type": "stream",
     "text": [
      "2023-04-15 20:08:10.200 WARNING datasets.builder: Found cached dataset json (/home/pintos/.cache/huggingface/datasets/json/default-3bfbc9858e2f56f0/0.0.0/fe5dd6ea2639a6df622901539cb550cf8797e5a6b2dd7af1cf934bed8e233e6e)\n"
     ]
    },
    {
     "data": {
      "application/vnd.jupyter.widget-view+json": {
       "model_id": "f9de7e747d9d4bef8ff00503b364fd46",
       "version_major": 2,
       "version_minor": 0
      },
      "text/plain": [
       "  0%|          | 0/1 [00:00<?, ?it/s]"
      ]
     },
     "metadata": {},
     "output_type": "display_data"
    },
    {
     "name": "stdout",
     "output_type": "stream",
     "text": [
      "Processed 0 articles\n",
      "Processed 50 articles\n",
      "Processed 100 articles\n",
      "Processed 150 articles\n",
      "Processed 200 articles\n",
      "Processed 250 articles\n",
      "Processed 300 articles\n",
      "Processed 350 articles\n",
      "Processed 400 articles\n",
      "Processed 450 articles\n",
      "Processed 500 articles\n",
      "Processed 550 articles\n",
      "Processed 600 articles\n",
      "Processed 650 articles\n",
      "Processed 700 articles\n",
      "Processed 750 articles\n",
      "Processed 800 articles\n",
      "Processed 850 articles\n",
      "Processed 900 articles\n",
      "Processed 950 articles\n"
     ]
    }
   ],
   "source": [
    "\n",
    "import json\n",
    "\n",
    "from datasets import load_dataset\n",
    "dataset = load_dataset('json', data_files='./plos_readability_ctrl_sum_corpus/test_plos.jsonl')\n",
    "output_file = open(\"./plos_readability_ctrl_sum_corpus_output/test_plos_output.jsonl\", \"w\")\n",
    "\n",
    "for i in range(1000):\n",
    "    title = dataset[\"train\"][i][\"title\"]\n",
    "    abstract = dataset[\"train\"][i][\"abstract\"]\n",
    "    plain_language_summary = dataset[\"train\"][i][\"plain language summary\"]\n",
    "    article = dataset[\"train\"][i][\"article\"]\n",
    "\n",
    "    predicted_summary = generate_summary(abstract)\n",
    "    predicted_summary = \" \".join(predicted_summary)\n",
    "\n",
    "    # json.dump({\"title\": title, \"predicted summary\": predicted_summary}, output_file)\n",
    "\n",
    "    output_file.write(json.dumps({\"title\": title, \"predicted summary\": predicted_summary}) + '\\n')\n",
    "\n",
    "    if (i % 50 == 0):\n",
    "        print(\"Processed \" + str(i) + \" articles\")\n",
    "\n",
    "output_file.close()\n",
    "\n"
   ]
  },
  {
   "cell_type": "code",
   "execution_count": 46,
   "metadata": {},
   "outputs": [],
   "source": [
    "# predicted_summary = generate_summary(abstract)\n",
    "# predicted_summary = \" \".join(predicted_summary)"
   ]
  },
  {
   "cell_type": "code",
   "execution_count": 2,
   "metadata": {},
   "outputs": [
    {
     "name": "stdout",
     "output_type": "stream",
     "text": [
      "Downloading and preparing dataset json/default to /home/pintos/.cache/huggingface/datasets/json/default-7c4ac344410fb82a/0.0.0/fe5dd6ea2639a6df622901539cb550cf8797e5a6b2dd7af1cf934bed8e233e6e...\n"
     ]
    },
    {
     "data": {
      "application/vnd.jupyter.widget-view+json": {
       "model_id": "2310896b8c314708b01d8696be895894",
       "version_major": 2,
       "version_minor": 0
      },
      "text/plain": [
       "Downloading data files:   0%|          | 0/1 [00:00<?, ?it/s]"
      ]
     },
     "metadata": {},
     "output_type": "display_data"
    },
    {
     "data": {
      "application/vnd.jupyter.widget-view+json": {
       "model_id": "d6d32c1bd58e4c0b94a8ae3d162fd9d3",
       "version_major": 2,
       "version_minor": 0
      },
      "text/plain": [
       "Extracting data files:   0%|          | 0/1 [00:00<?, ?it/s]"
      ]
     },
     "metadata": {},
     "output_type": "display_data"
    },
    {
     "data": {
      "application/vnd.jupyter.widget-view+json": {
       "model_id": "bd9a491480c644d398c62520b2ee0401",
       "version_major": 2,
       "version_minor": 0
      },
      "text/plain": [
       "Generating train split: 0 examples [00:00, ? examples/s]"
      ]
     },
     "metadata": {},
     "output_type": "display_data"
    },
    {
     "name": "stdout",
     "output_type": "stream",
     "text": [
      "Dataset json downloaded and prepared to /home/pintos/.cache/huggingface/datasets/json/default-7c4ac344410fb82a/0.0.0/fe5dd6ea2639a6df622901539cb550cf8797e5a6b2dd7af1cf934bed8e233e6e. Subsequent calls will reuse this data.\n"
     ]
    },
    {
     "data": {
      "application/vnd.jupyter.widget-view+json": {
       "model_id": "3eb7fee35b554393afd3ae178e36ad41",
       "version_major": 2,
       "version_minor": 0
      },
      "text/plain": [
       "  0%|          | 0/1 [00:00<?, ?it/s]"
      ]
     },
     "metadata": {},
     "output_type": "display_data"
    },
    {
     "name": "stderr",
     "output_type": "stream",
     "text": [
      "Found cached dataset json (/home/pintos/.cache/huggingface/datasets/json/default-2fe7adf397160333/0.0.0/fe5dd6ea2639a6df622901539cb550cf8797e5a6b2dd7af1cf934bed8e233e6e)\n"
     ]
    },
    {
     "data": {
      "application/vnd.jupyter.widget-view+json": {
       "model_id": "68c6857c1010421681b6c0da8119be6b",
       "version_major": 2,
       "version_minor": 0
      },
      "text/plain": [
       "  0%|          | 0/1 [00:00<?, ?it/s]"
      ]
     },
     "metadata": {},
     "output_type": "display_data"
    }
   ],
   "source": [
    "from datasets import load_dataset\n",
    "import textstat\n",
    "\n",
    "test_dataset = load_dataset('json', data_files='./plos_readability_ctrl_sum_corpus/test_plos.jsonl')\n",
    "predicted_dataset = load_dataset('json', data_files='./plos_readability_ctrl_sum_corpus_output/test_plos_output.jsonl')\n",
    "\n",
    "abstract_score = list()\n",
    "plain_language_summary_score = list()\n",
    "predicted_summary_score = list()\n",
    "\n",
    "for i in range(1000):\n",
    "    abstract = test_dataset[\"train\"][i][\"abstract\"]\n",
    "    plain_language_summary = test_dataset[\"train\"][i][\"plain language summary\"]\n",
    "    predicted_summary = predicted_dataset[\"train\"][i][\"predicted summary\"]\n",
    "\n",
    "    abstract_score.append(textstat.flesch_reading_ease(abstract))\n",
    "    plain_language_summary_score.append(textstat.flesch_reading_ease(plain_language_summary))\n",
    "    predicted_summary_score.append(textstat.flesch_reading_ease(predicted_summary))\n"
   ]
  },
  {
   "cell_type": "code",
   "execution_count": 6,
   "metadata": {},
   "outputs": [
    {
     "data": {
      "image/png": "[encoded data removed]",
      "text/plain": [
       "<Figure size 640x480 with 1 Axes>"
      ]
     },
     "metadata": {},
     "output_type": "display_data"
    }
   ],
   "source": [
    "# plot the scores as a line\n",
    "import matplotlib.pyplot as plt\n",
    "\n",
    "x_val = list()\n",
    "for i in range(1000):\n",
    "    x_val.append(i+1)\n",
    "\n",
    "plt.scatter(x_val[:50], abstract_score[:50], color=\"red\")\n",
    "plt.scatter(x_val[:50], plain_language_summary_score[:50], color=\"green\")\n",
    "plt.scatter(x_val[:50], predicted_summary_score[:50], color=\"blue\")\n",
    "plt.legend([\"Abstract\", \"Plain Language Summary\", \"Predicted Summary\"])\n",
    "plt.show()"
   ]
  }
 ],
 "metadata": {
  "kernelspec": {
   "display_name": "LIN373N",
   "language": "python",
   "name": "python3"
  },
  "language_info": {
   "codemirror_mode": {
    "name": "ipython",
    "version": 3
   },
   "file_extension": ".py",
   "mimetype": "text/x-python",
   "name": "python",
   "nbconvert_exporter": "python",
   "pygments_lexer": "ipython3",
   "version": "3.10.8"
  },
  "orig_nbformat": 4
 },
 "nbformat": 4,
 "nbformat_minor": 2
}
